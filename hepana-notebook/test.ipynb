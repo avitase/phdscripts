{
 "cells": [
  {
   "cell_type": "code",
   "execution_count": 1,
   "metadata": {},
   "outputs": [
    {
     "name": "stdout",
     "output_type": "stream",
     "text": [
      "Welcome to JupyROOT 6.13/02\n"
     ]
    }
   ],
   "source": [
    "import ROOT as root\n",
    "import gptools as gp\n",
    "import figtools as fig"
   ]
  },
  {
   "cell_type": "code",
   "execution_count": 2,
   "metadata": {},
   "outputs": [
    {
     "data": {
      "text/plain": [
       "'6.13/02'"
      ]
     },
     "execution_count": 2,
     "metadata": {},
     "output_type": "execute_result"
    }
   ],
   "source": [
    "root.gROOT.GetVersion()"
   ]
  },
  {
   "cell_type": "code",
   "execution_count": 3,
   "metadata": {},
   "outputs": [
    {
     "data": {
      "text/html": [
       "<img src=\"img/testPlot.png\" alt=\"img/testPlot.png\" width=\"400\">"
      ],
      "text/plain": [
       "<IPython.core.display.HTML object>"
      ]
     },
     "metadata": {},
     "output_type": "display_data"
    }
   ],
   "source": [
    "preamble = gp.prepend_preamble(r'\\usepackage{mathtools}')\n",
    "\n",
    "cmd = gp.create('testPlot', code=r'''\n",
    "set grid\n",
    "set ytics .5\n",
    "set xlabel '$p$ [\\gevc]'\n",
    "set ylabel '$\\langle p \\mid \\psi \\rangle$'\n",
    "plot sin(x) ls 1 lw 2 notitle\n",
    "''', preamble=preamble)\n",
    "!{cmd} > /dev/null\n",
    "fig.show_fig('testPlot.png')"
   ]
  },
  {
   "cell_type": "code",
   "execution_count": 4,
   "metadata": {},
   "outputs": [
    {
     "data": {
      "text/html": [
       "<img src=\"img/testDecay.png\" alt=\"img/testDecay.png\" width=\"400\">"
      ],
      "text/plain": [
       "<IPython.core.display.HTML object>"
      ]
     },
     "metadata": {},
     "output_type": "display_data"
    },
    {
     "name": "stdout",
     "output_type": "stream",
     "text": [
      "\\begin{fmfgraph*}(80,50)\r\n",
      "    \\fmfleft{i1}\r\n",
      "    \\fmfright{o1,o2}\r\n",
      "\r\n",
      "    \\fmf{fermion,tension=3}{i1,v1}\r\n",
      "    \\fmf{fermion,tension=2,label=$\\bquark$}{v1,v2}\r\n",
      "    \\fmf{fermion,label=$\\cquark$}{v2,v3}\r\n",
      "    \\fmf{fermion,tension=3}{v3,o2}\r\n",
      "\r\n",
      "    \\fmf{fermion,label=$\\uquark$,label.side=left}{v3,v4}\r\n",
      "    \\fmf{fermion,label=$\\squark$}{v4,v5}\r\n",
      "    \\fmf{fermion,tension=3}{v5,o1}\r\n",
      "\r\n",
      "    \\fmf{fermion}{v1,v5}\r\n",
      "\r\n",
      "    \\fmf{boson,tension=2}{v2,v4}\r\n",
      "\r\n",
      "    \\fmfdot{v2}\r\n",
      "    \\fmfdot{v4}\r\n",
      "\r\n",
      "    \\fmfblob{.1w}{v1}\r\n",
      "    \\fmfblob{.1w}{v3}\r\n",
      "    \\fmfblob{.1w}{v5}\r\n",
      "\r\n",
      "    \\fmffreeze\r\n",
      "    \\fmfi{plain}{vpath (__i1,__v1) shifted (thick*(0,2))}\r\n",
      "    \\fmfi{plain}{vpath (__i1,__v1) shifted (thick*(0,-2))}\r\n",
      "\r\n",
      "    \\fmfi{plain}{vpath (__v3,__o2) shifted (thick*(0,-2.5))}\r\n",
      "\r\n",
      "    \\fmfi{plain}{vpath (__v1,__v5) shifted (thick*(-.8,-2))}\r\n",
      "\r\n",
      "    \\fmfi{plain}{vpath (__v5,__o1) shifted (thick*(0,3))}\r\n",
      "    \\fmfi{plain}{vpath (__v5,__o1) shifted (thick*(-1.5,-2))}\r\n",
      "\r\n",
      "    \\fmfv{label=$\\Vcb$,label.angle=120}{v2}\r\n",
      "    \\fmfv{label=$\\Vuss$,label.angle=-120}{v4}\r\n",
      "\r\n",
      "    \\fmfv{label=$\\Lb$,label.angle=-120,label.dist=0.06w}{v1}\r\n",
      "    \\fmfv{label=$\\Lz$,label.angle=-120,label.dist=0.06w}{v5}\r\n",
      "    \\fmfv{label=$\\Dz$,label.angle=-30,label.dist=0.06w}{v3}\r\n",
      "\\end{fmfgraph*}\r\n"
     ]
    }
   ],
   "source": [
    "!./feyn2png.sh testDecay.tex > /dev/null\n",
    "fig.show_fig('testDecay.png')\n",
    "!cat testDecay.tex"
   ]
  },
  {
   "cell_type": "code",
   "execution_count": null,
   "metadata": {},
   "outputs": [],
   "source": []
  }
 ],
 "metadata": {
  "kernelspec": {
   "display_name": "Python 3",
   "language": "python",
   "name": "python3"
  },
  "language_info": {
   "codemirror_mode": {
    "name": "ipython",
    "version": 3
   },
   "file_extension": ".py",
   "mimetype": "text/x-python",
   "name": "python",
   "nbconvert_exporter": "python",
   "pygments_lexer": "ipython3",
   "version": "3.6.5"
  }
 },
 "nbformat": 4,
 "nbformat_minor": 2
}
