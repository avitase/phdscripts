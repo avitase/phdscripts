{
 "cells": [
  {
   "cell_type": "code",
   "execution_count": 1,
   "metadata": {},
   "outputs": [
    {
     "name": "stdout",
     "output_type": "stream",
     "text": [
      "Welcome to JupyROOT 6.13/02\n"
     ]
    },
    {
     "data": {
      "text/plain": [
       "'6.13/02'"
      ]
     },
     "execution_count": 1,
     "metadata": {},
     "output_type": "execute_result"
    }
   ],
   "source": [
    "from ROOT import gROOT\n",
    "\n",
    "gROOT.GetVersion()"
   ]
  },
  {
   "cell_type": "code",
   "execution_count": 2,
   "metadata": {},
   "outputs": [
    {
     "data": {
      "text/html": [
       "<img src=\"img/test.png?1528734341.1899717\" alt=\"img/test.png\" width=\"400\">"
      ],
      "text/plain": [
       "<IPython.core.display.HTML object>"
      ]
     },
     "metadata": {},
     "output_type": "display_data"
    }
   ],
   "source": [
    "import gptools as gp\n",
    "\n",
    "preamble = gp.prepend_preamble(r'\\usepackage{mathtools}')\n",
    "\n",
    "cmd = gp.create('test', code=r'''\n",
    "set grid\n",
    "set ytics .5\n",
    "set xlabel '$p$ [\\gevc]'\n",
    "set ylabel '$\\langle p \\mid \\psi \\rangle$'\n",
    "plot sin(x) ls 1 lw 2 notitle\n",
    "''', preamble=preamble)\n",
    "!{cmd} > /dev/null\n",
    "gp.show_fig('test.png')"
   ]
  },
  {
   "cell_type": "code",
   "execution_count": 3,
   "metadata": {},
   "outputs": [
    {
     "data": {
      "text/plain": [
       "['\\\\newcommand{\\\\mevcc}{\\\\ensuremath{\\\\mathrm{Me\\\\kern -0.1em V\\\\!/}c^2}}',\n",
       " '\\\\newcommand{\\\\mevc}{\\\\ensuremath{\\\\mathrm{Me\\\\kern -0.1em V\\\\!/}c}}',\n",
       " '\\\\newcommand{\\\\gevcc}{\\\\ensuremath{\\\\mathrm{Ge\\\\kern -0.1em V\\\\!/}c^2}}',\n",
       " '\\\\newcommand{\\\\gevc}{\\\\ensuremath{\\\\mathrm{Ge\\\\kern -0.1em V\\\\!/}c}}',\n",
       " '\\\\newcommand{\\\\MagUp}{\\\\ensuremath{\\\\mathrm{\\\\textit{Mag\\\\kern -0.05em Up}}}}',\n",
       " '\\\\newcommand{\\\\MagDown}{\\\\ensuremath{\\\\mathrm{\\\\textit{MagDown}}}}']"
      ]
     },
     "execution_count": 3,
     "metadata": {},
     "output_type": "execute_result"
    }
   ],
   "source": [
    "gp.preamble"
   ]
  },
  {
   "cell_type": "code",
   "execution_count": 4,
   "metadata": {},
   "outputs": [
    {
     "name": "stdout",
     "output_type": "stream",
     "text": [
      "\\documentclass{standalone}\r\n",
      "\r\n",
      "\\usepackage{feynmp-auto}\r\n",
      "\r\n",
      "\\begin{document}\r\n",
      "  \\unitlength = 1mm\r\n",
      "  \\fmfpen{thick}\r\n",
      "  \\begin{fmffile}{decay}\r\n",
      "    \\begin{fmfgraph*}(80,50)\r\n",
      "      \\fmfleft{i1}\r\n",
      "      \\fmfright{o1,o2}\r\n",
      "\r\n",
      "      \\fmf{fermion,tension=3}{i1,v1}\r\n",
      "      \\fmf{fermion,tension=2,label=$b$}{v1,v2}\r\n",
      "      \\fmf{fermion,label=$c$}{v2,v3}\r\n",
      "      \\fmf{fermion,tension=3}{v3,o2}\r\n",
      "\r\n",
      "      \\fmf{fermion,label=$u$,label.side=left}{v3,v4}\r\n",
      "      \\fmf{fermion,label=$s$}{v4,v5}\r\n",
      "      \\fmf{fermion,tension=3}{v5,o1}\r\n",
      "\r\n",
      "      \\fmf{fermion}{v1,v5}\r\n",
      "\r\n",
      "      \\fmf{boson,tension=2}{v2,v4}\r\n",
      "\r\n",
      "      \\fmfdot{v2}\r\n",
      "      \\fmfdot{v4}\r\n",
      "\r\n",
      "      \\fmfblob{.1w}{v1}\r\n",
      "      \\fmfblob{.1w}{v3}\r\n",
      "      \\fmfblob{.1w}{v5}\r\n",
      "\r\n",
      "      \\fmffreeze\r\n",
      "      \\fmfi{plain}{vpath (__i1,__v1) shifted (thick*(0,2))}\r\n",
      "      \\fmfi{plain}{vpath (__i1,__v1) shifted (thick*(0,-2))}\r\n",
      "\r\n",
      "      \\fmfi{plain}{vpath (__v3,__o2) shifted (thick*(0,-2.5))}\r\n",
      "\r\n",
      "      \\fmfi{plain}{vpath (__v1,__v5) shifted (thick*(-.8,-2))}\r\n",
      "\r\n",
      "      \\fmfi{plain}{vpath (__v5,__o1) shifted (thick*(0,3))}\r\n",
      "      \\fmfi{plain}{vpath (__v5,__o1) shifted (thick*(-1.5,-2))}\r\n",
      "\r\n",
      "      \\fmfv{label=$V_{cb}$,label.angle=120}{v2}\r\n",
      "      \\fmfv{label=$V^*_{us}$,label.angle=-120}{v4}\r\n",
      "\r\n",
      "      \\fmfv{label=$\\Lambda_b$,label.angle=-120,label.dist=0.05w}{v1}\r\n",
      "      \\fmfv{label=$\\Lambda$,label.angle=-120,label.dist=0.06w}{v5}\r\n",
      "      \\fmfv{label=$D^0$,label.angle=-30,label.dist=0.06w}{v3}\r\n",
      "    \\end{fmfgraph*}\r\n",
      "  \\end{fmffile}\r\n",
      "\\end{document}\r\n"
     ]
    },
    {
     "data": {
      "text/html": [
       "<img src=\"img/testDecay.png?1528734342.1832497\" alt=\"img/testDecay.png\" width=\"400\">"
      ],
      "text/plain": [
       "<IPython.core.display.HTML object>"
      ]
     },
     "metadata": {},
     "output_type": "display_data"
    }
   ],
   "source": [
    "!cat testDecay.tex\n",
    "!./feyn2png.sh testDecay.tex > /dev/null\n",
    "gp.show_fig('testDecay.png')"
   ]
  },
  {
   "cell_type": "code",
   "execution_count": null,
   "metadata": {},
   "outputs": [],
   "source": []
  }
 ],
 "metadata": {
  "kernelspec": {
   "display_name": "Python 3",
   "language": "python",
   "name": "python3"
  },
  "language_info": {
   "codemirror_mode": {
    "name": "ipython",
    "version": 3
   },
   "file_extension": ".py",
   "mimetype": "text/x-python",
   "name": "python",
   "nbconvert_exporter": "python",
   "pygments_lexer": "ipython3",
   "version": "3.6.5"
  }
 },
 "nbformat": 4,
 "nbformat_minor": 2
}
