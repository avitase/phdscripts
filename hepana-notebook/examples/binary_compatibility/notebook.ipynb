{
 "cells": [
  {
   "cell_type": "markdown",
   "metadata": {},
   "source": [
    "# Binary Compatibility of Generated Plots\n",
    "\n",
    "We remove meta information, such as the creation time from `.png` files during generation in order to achieve binary compatibility of two images when stemming from the same generating code. This comes in handy when one uses VCS for the generated images to keep track of changes. Below, we show an example where two images are generated from the same source code at different times. Note, that exactly this happens on kernel restarts, which could in principle triggers your VCS and fakes updates in the (binary) image files when meta information are not stripped (i.e. all pixels are the same, but some of the meta data have changed!)"
   ]
  },
  {
   "cell_type": "markdown",
   "metadata": {},
   "source": [
    "## Example"
   ]
  },
  {
   "cell_type": "code",
   "execution_count": 1,
   "metadata": {},
   "outputs": [],
   "source": [
    "import gptools as gp\n",
    "import figtools as fig\n",
    "\n",
    "fig.never_fool_caching = True"
   ]
  },
  {
   "cell_type": "markdown",
   "metadata": {},
   "source": [
    "Remove old images and create directory `img/` if necessary."
   ]
  },
  {
   "cell_type": "code",
   "execution_count": 2,
   "metadata": {},
   "outputs": [],
   "source": [
    "!rm -f img/* && mkdir -p img/"
   ]
  },
  {
   "cell_type": "markdown",
   "metadata": {},
   "source": [
    "Gnuplot code that we will use to generate the images."
   ]
  },
  {
   "cell_type": "code",
   "execution_count": 3,
   "metadata": {},
   "outputs": [],
   "source": [
    "gpcode = r'''\n",
    "set title 'The Infamous $\\{0} x$ Function'\n",
    "set samples 200\n",
    "set xrange [0:4*pi]\n",
    "set xtics pi\n",
    "set mxtics 2\n",
    "set format x '%.0P$\\pi$'\n",
    "set ytics .5\n",
    "set grid\n",
    "plot {0}(x) lw 2 notitle\n",
    "'''"
   ]
  },
  {
   "cell_type": "markdown",
   "metadata": {},
   "source": [
    "Generate a sine function and save as `img/sin.png`."
   ]
  },
  {
   "cell_type": "code",
   "execution_count": 4,
   "metadata": {
    "scrolled": true
   },
   "outputs": [
    {
     "data": {
      "text/html": [
       "<img src=\"img/sin.png\" alt=\"sin.png\" width=\"400\">"
      ],
      "text/plain": [
       "<IPython.core.display.HTML object>"
      ]
     },
     "metadata": {},
     "output_type": "display_data"
    }
   ],
   "source": [
    "cmd = gp.create(file_name='sin.png', code=gpcode.format('sin'))\n",
    "!{cmd} > /dev/null\n",
    "fig.show_fig('sin.png')"
   ]
  },
  {
   "cell_type": "markdown",
   "metadata": {},
   "source": [
    "Generate the exact same image and save as `img/sin2.png`."
   ]
  },
  {
   "cell_type": "code",
   "execution_count": 5,
   "metadata": {},
   "outputs": [
    {
     "name": "stdout",
     "output_type": "stream",
     "text": [
      "img/sin2.png  img/sin.png\r\n"
     ]
    }
   ],
   "source": [
    "cmd = gp.create(file_name='sin2.png', code=gpcode.format('sin'))\n",
    "!{cmd} > /dev/null\n",
    "!ls img/*.png\n",
    "!diff img/sin.png img/sin2.png"
   ]
  },
  {
   "cell_type": "markdown",
   "metadata": {},
   "source": [
    "Both files are binary compatible, whereas changes causes binary differences as expected."
   ]
  },
  {
   "cell_type": "code",
   "execution_count": 6,
   "metadata": {},
   "outputs": [
    {
     "data": {
      "text/html": [
       "<img src=\"img/cos.png\" alt=\"cos.png\" width=\"400\">"
      ],
      "text/plain": [
       "<IPython.core.display.HTML object>"
      ]
     },
     "metadata": {},
     "output_type": "display_data"
    },
    {
     "name": "stdout",
     "output_type": "stream",
     "text": [
      "Binary files img/sin.png and img/cos.png differ\r\n"
     ]
    }
   ],
   "source": [
    "cmd = gp.create(file_name='cos.png', code=gpcode.format('cos'))\n",
    "!{cmd} > /dev/null\n",
    "fig.show_fig('cos.png')\n",
    "!diff img/sin.png img/cos.png"
   ]
  },
  {
   "cell_type": "code",
   "execution_count": null,
   "metadata": {},
   "outputs": [],
   "source": []
  }
 ],
 "metadata": {
  "kernelspec": {
   "display_name": "Python 3",
   "language": "python",
   "name": "python3"
  },
  "language_info": {
   "codemirror_mode": {
    "name": "ipython",
    "version": 3
   },
   "file_extension": ".py",
   "mimetype": "text/x-python",
   "name": "python",
   "nbconvert_exporter": "python",
   "pygments_lexer": "ipython3",
   "version": "3.6.3"
  }
 },
 "nbformat": 4,
 "nbformat_minor": 2
}
