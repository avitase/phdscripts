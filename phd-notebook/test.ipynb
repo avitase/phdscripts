{
 "cells": [
  {
   "cell_type": "code",
   "execution_count": 1,
   "metadata": {},
   "outputs": [
    {
     "name": "stdout",
     "output_type": "stream",
     "text": [
      "Welcome to JupyROOT 6.13/02\n"
     ]
    },
    {
     "data": {
      "text/plain": [
       "'6.13/02'"
      ]
     },
     "execution_count": 1,
     "metadata": {},
     "output_type": "execute_result"
    }
   ],
   "source": [
    "from ROOT import gROOT\n",
    "\n",
    "gROOT.GetVersion()"
   ]
  },
  {
   "cell_type": "code",
   "execution_count": 2,
   "metadata": {},
   "outputs": [
    {
     "data": {
      "text/html": [
       "<img src=\"img/test.png?1528638079.9507241\" alt=\"img/test.png\" width=\"400\">"
      ],
      "text/plain": [
       "<IPython.core.display.HTML object>"
      ]
     },
     "metadata": {},
     "output_type": "display_data"
    }
   ],
   "source": [
    "import gptools as gp\n",
    "\n",
    "preamble = gp.prepend_preamble(r'\\usepackage{mathtools}')\n",
    "\n",
    "cmd = gp.create('test', code=r'''\n",
    "set grid\n",
    "set ytics .5\n",
    "set xlabel '$p$ [\\gevc]'\n",
    "set ylabel '$\\langle p \\mid \\psi \\rangle$'\n",
    "plot sin(x) ls 1 lw 2 notitle\n",
    "''', preamble=preamble)\n",
    "!{cmd} > /dev/null\n",
    "gp.show_fig('test.png')"
   ]
  },
  {
   "cell_type": "code",
   "execution_count": 3,
   "metadata": {},
   "outputs": [
    {
     "data": {
      "text/plain": [
       "['\\\\newcommand{\\\\mevcc}{\\\\ensuremath{\\\\mathrm{Me\\\\kern -0.1em V\\\\!/}c^2}}',\n",
       " '\\\\newcommand{\\\\mevc}{\\\\ensuremath{\\\\mathrm{Me\\\\kern -0.1em V\\\\!/}c}}',\n",
       " '\\\\newcommand{\\\\gevcc}{\\\\ensuremath{\\\\mathrm{Ge\\\\kern -0.1em V\\\\!/}c^2}}',\n",
       " '\\\\newcommand{\\\\gevc}{\\\\ensuremath{\\\\mathrm{Ge\\\\kern -0.1em V\\\\!/}c}}',\n",
       " '\\\\newcommand{\\\\MagUp}{\\\\ensuremath{\\\\mathrm{\\\\textit{Mag\\\\kern -0.05em Up}}}}',\n",
       " '\\\\newcommand{\\\\MagDown}{\\\\ensuremath{\\\\mathrm{\\\\textit{MagDown}}}}']"
      ]
     },
     "execution_count": 3,
     "metadata": {},
     "output_type": "execute_result"
    }
   ],
   "source": [
    "gp.preamble"
   ]
  },
  {
   "cell_type": "code",
   "execution_count": null,
   "metadata": {},
   "outputs": [],
   "source": []
  }
 ],
 "metadata": {
  "kernelspec": {
   "display_name": "Python 3",
   "language": "python",
   "name": "python3"
  },
  "language_info": {
   "codemirror_mode": {
    "name": "ipython",
    "version": 3
   },
   "file_extension": ".py",
   "mimetype": "text/x-python",
   "name": "python",
   "nbconvert_exporter": "python",
   "pygments_lexer": "ipython3",
   "version": "3.6.5"
  }
 },
 "nbformat": 4,
 "nbformat_minor": 2
}
