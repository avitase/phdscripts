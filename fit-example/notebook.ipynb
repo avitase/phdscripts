{
 "cells": [
  {
   "cell_type": "code",
   "execution_count": 1,
   "metadata": {},
   "outputs": [
    {
     "name": "stdout",
     "output_type": "stream",
     "text": [
      "Welcome to JupyROOT 6.13/02\n"
     ]
    }
   ],
   "source": [
    "import ROOT\n",
    "import numpy as np\n",
    "from IPython.display import display\n",
    "import math\n",
    "\n",
    "import histdump as hd\n",
    "import gptools as gp\n",
    "import figtools as fig\n",
    "from fittools import Fitter, extended_logl\n",
    "import pdfs"
   ]
  },
  {
   "cell_type": "code",
   "execution_count": 2,
   "metadata": {},
   "outputs": [],
   "source": [
    "boundaries = [0., 5.]\n",
    "n_bins = 5\n",
    "bin_width = (boundaries[1] - boundaries[0]) / n_bins"
   ]
  },
  {
   "cell_type": "code",
   "execution_count": 3,
   "metadata": {},
   "outputs": [],
   "source": [
    "rnd = ROOT.TRandom3(42)\n",
    "l, r = boundaries\n",
    "n_data = 50\n",
    "data = [l + (r-l) * rnd.Rndm() for _ in range(n_data)]"
   ]
  },
  {
   "cell_type": "code",
   "execution_count": 4,
   "metadata": {},
   "outputs": [],
   "source": [
    "myFunc = pdfs.Linear(boundaries)"
   ]
  },
  {
   "cell_type": "code",
   "execution_count": 5,
   "metadata": {},
   "outputs": [
    {
     "name": "stdout",
     "output_type": "stream",
     "text": [
      " PARAMETER DEFINITIONS:\n",
      "    NO.   NAME         VALUE      STEP SIZE      LIMITS\n",
      "     1 a            0.00000e+00  6.00000e-04   -3.00000e+00  3.00000e+00\n",
      "     2 n            5.00000e+01  1.00000e-02    0.00000e+00  1.00000e+02\n",
      " **********\n",
      " **    1 **MIGRAD\n",
      " **********\n",
      " FIRST CALL TO USER FUNCTION AT NEW START POINT, WITH IFLAG=4.\n",
      " START MIGRAD MINIMIZATION.  STRATEGY  1.  CONVERGENCE WHEN EDM .LT. 1.00e-04\n",
      " FCN=-65.1293 FROM MIGRAD    STATUS=INITIATE        8 CALLS           9 TOTAL\n",
      "                     EDM= unknown      STRATEGY= 1      NO ERROR MATRIX       \n",
      "  EXT PARAMETER               CURRENT GUESS       STEP         FIRST   \n",
      "  NO.   NAME      VALUE            ERROR          SIZE      DERIVATIVE \n",
      "   1  a            0.00000e+00   6.00000e-04   2.00000e-04   4.88001e+01\n",
      "   2  n            5.00000e+01   1.00000e-02   2.00000e-04  -7.10543e-09\n",
      " MIGRAD MINIMIZATION HAS CONVERGED.\n",
      " FCN=-66.2529 FROM MIGRAD    STATUS=CONVERGED      75 CALLS          76 TOTAL\n",
      "                     EDM=3.59715e-08    STRATEGY= 1  ERROR MATRIX UNCERTAINTY   2.1 per cent\n",
      "  EXT PARAMETER                                   STEP         FIRST   \n",
      "  NO.   NAME      VALUE            ERROR          SIZE      DERIVATIVE \n",
      "   1  a           -1.01593e-01   7.02038e-02  -9.71492e-04  -1.31492e-02\n",
      "   2  n            5.00000e+01   9.93346e+00   2.20515e-08  -3.82661e-07\n",
      " EXTERNAL ERROR MATRIX.    NDIM=  25    NPAR=  2    ERR DEF=1\n",
      "  4.929e-03 -4.168e-10 \n",
      " -4.168e-10  1.000e+02 \n",
      " PARAMETER  CORRELATION COEFFICIENTS  \n",
      "       NO.  GLOBAL      1      2\n",
      "        1  0.00000   1.000 -0.000\n",
      "        2  0.00000  -0.000  1.000\n",
      " **********\n",
      " **    2 **HESSE\n",
      " **********\n",
      " COVARIANCE MATRIX CALCULATED SUCCESSFULLY\n",
      " FCN=-66.2529 FROM HESSE     STATUS=OK             12 CALLS          88 TOTAL\n",
      "                     EDM=4.29312e-08    STRATEGY= 1      ERROR MATRIX ACCURATE \n",
      "  EXT PARAMETER                                INTERNAL      INTERNAL  \n",
      "  NO.   NAME      VALUE            ERROR       STEP SIZE       VALUE   \n",
      "   1  a           -1.01593e-01   6.89593e-02   9.54743e-05  -3.38709e-02\n",
      "   2  n            5.00000e+01   9.93347e+00   8.00858e-04   2.06138e-07\n",
      " EXTERNAL ERROR MATRIX.    NDIM=  25    NPAR=  2    ERR DEF=1\n",
      "  4.756e-03  0.000e+00 \n",
      "  0.000e+00  1.000e+02 \n",
      " PARAMETER  CORRELATION COEFFICIENTS  \n",
      "       NO.  GLOBAL      1      2\n",
      "        1  0.00000   1.000  0.000\n",
      "        2  0.00000   0.000  1.000\n",
      " **********\n",
      " **    3 **MINOS\n",
      " **********\n",
      " FCN=-66.2529 FROM MINOS     STATUS=SUCCESSFUL    117 CALLS         205 TOTAL\n",
      "                     EDM=4.29312e-08    STRATEGY= 1      ERROR MATRIX ACCURATE \n",
      "  EXT PARAMETER                  PARABOLIC         MINOS ERRORS        \n",
      "  NO.   NAME      VALUE            ERROR      NEGATIVE      POSITIVE   \n",
      "   1  a           -1.01593e-01   6.89593e-02  -5.26551e-02   9.39193e-02\n",
      "   2  n            5.00000e+01   9.93347e+00  -9.34475e+00   1.06788e+01\n"
     ]
    }
   ],
   "source": [
    "def fcn(npar, gin, f, par, iflag):\n",
    "    a = par[0]\n",
    "    n = par[1]\n",
    "    \n",
    "    ln_f = lambda x: math.log(myFunc(x, a))\n",
    "    try:\n",
    "        f[0] = extended_logl(ln_f, n, data)\n",
    "    except ValueError:\n",
    "        f[0] = math.inf\n",
    "\n",
    "fitter = Fitter()\n",
    "fitter.add_param('a', (-3., 3.))\n",
    "fitter.add_param('n', (0., 2.*n_data))\n",
    "fitter.fit(fcn)"
   ]
  },
  {
   "cell_type": "code",
   "execution_count": 6,
   "metadata": {},
   "outputs": [
    {
     "name": "stdout",
     "output_type": "stream",
     "text": [
      "# 0: a = -0.10+/-0.07\n",
      "# 1: n = 50+/-10\n"
     ]
    }
   ],
   "source": [
    "fitter.print_values()"
   ]
  },
  {
   "cell_type": "code",
   "execution_count": 7,
   "metadata": {},
   "outputs": [],
   "source": [
    "a = fitter.get_value(0).n\n",
    "norm = bin_width * float(len(data))"
   ]
  },
  {
   "cell_type": "code",
   "execution_count": 8,
   "metadata": {},
   "outputs": [
    {
     "data": {
      "text/html": [
       "<img src=\"img/data.png?1530135542.2310364\" alt=\"data.png\" width=\"400\">"
      ],
      "text/plain": [
       "<IPython.core.display.HTML object>"
      ]
     },
     "metadata": {},
     "output_type": "display_data"
    }
   ],
   "source": [
    "bin_edges = np.linspace(*boundaries, n_bins+1)\n",
    "\n",
    "hd.make_hist_file(data=data, bin_edges=bin_edges, file_name='data.csv')\n",
    "\n",
    "f = lambda x: myFunc(x, a) * norm\n",
    "hd.make_steps_file(func=f, bin_edges=bin_edges, file_name='f.csv')\n",
    "\n",
    "cmd = gp.create('data', code=r'''\n",
    "load 'csvdata.cfg'\n",
    "datafile = 'data.csv'\n",
    "fitfile = 'f.csv'\n",
    "\n",
    "set yrange [0:]\n",
    "\n",
    "plot datafile u 2:5:1:3:4:6 with xyerrorbars lc black pt 7 ps 0.7 t 'Data',\\\n",
    "     fitfile with steps t 'Fit'\n",
    "''')\n",
    "!{cmd} > /dev/null\n",
    "fig.show_fig('data.png')"
   ]
  },
  {
   "cell_type": "code",
   "execution_count": null,
   "metadata": {},
   "outputs": [],
   "source": []
  }
 ],
 "metadata": {
  "kernelspec": {
   "display_name": "Python 3",
   "language": "python",
   "name": "python3"
  },
  "language_info": {
   "codemirror_mode": {
    "name": "ipython",
    "version": 3
   },
   "file_extension": ".py",
   "mimetype": "text/x-python",
   "name": "python",
   "nbconvert_exporter": "python",
   "pygments_lexer": "ipython3",
   "version": "3.6.5"
  }
 },
 "nbformat": 4,
 "nbformat_minor": 2
}
